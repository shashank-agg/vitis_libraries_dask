{
 "cells": [
  {
   "cell_type": "code",
   "execution_count": 34,
   "metadata": {},
   "outputs": [],
   "source": [
    "from dask.distributed import Client, progress, get_worker\n",
    "client = Client(\"tcp://131.180.106.138:8786\")"
   ]
  },
  {
   "cell_type": "code",
   "execution_count": 35,
   "metadata": {},
   "outputs": [],
   "source": [
    "file_list = [\n",
    "    'http://www.nwhiker.com/wallpaper/wp01.jpg',\n",
    "    'http://www.nwhiker.com/wallpaper/wp02.jpg',\n",
    "    'http://www.nwhiker.com/wallpaper/wp03.jpg',\n",
    "    'http://www.nwhiker.com/wallpaper/wp04.jpg',\n",
    "    'http://www.nwhiker.com/wallpaper/wp05.jpg',\n",
    "    'http://www.nwhiker.com/wallpaper/wp06.jpg',\n",
    "    'http://www.nwhiker.com/wallpaper/wp07.jpg',\n",
    "    'http://www.nwhiker.com/wallpaper/wp08.jpg',\n",
    "    'http://www.nwhiker.com/wallpaper/wp09.jpg',\n",
    "    'http://www.nwhiker.com/wallpaper/wp10.jpg'\n",
    "]"
   ]
  },
  {
   "cell_type": "code",
   "execution_count": 36,
   "metadata": {},
   "outputs": [],
   "source": [
    "\n",
    "def run_in_worker(file_name):\n",
    "    import requests\n",
    "    import os\n",
    "    from xfZlibWrapper import xfZlibWrapper\n",
    "\n",
    "    # Download to filesystem\n",
    "    print(f\"Downloading file from URL {file_name}\")\n",
    "    os.makedirs(os.path.dirname(\"data/\"), exist_ok=True)    \n",
    "    file_path = 'data/' + file_name.split(\"/\")[-1]\n",
    "    r = requests.get(file_name)\n",
    "    open(file_path, 'wb').write(r.content)\n",
    "    \n",
    "    \n",
    "    # Call FPGA driver\n",
    "    print(\"calling constructor\")\n",
    "    xfZlib = xfZlibWrapper(b\"build/xclbin_xilinx_u200_xdma_201830_2_sw_emu/compress_decompress.xclbin\")\n",
    "    print(\"%%%%% done calling constructor\")\n",
    "    \n",
    "    size = xfZlib.compress_file(file_path, file_path + \".gz\")\n",
    "    print(f'Compressed from {os.path.getsize(file_path)} to {size} bytes')\n",
    "    return size\n"
   ]
  },
  {
   "cell_type": "code",
   "execution_count": 37,
   "metadata": {},
   "outputs": [],
   "source": [
    "# distributed_data = client.scatter(file_list)\n",
    "# print(len(distributed_data))\n",
    "futures = client.map(run_in_worker,  file_list)"
   ]
  },
  {
   "cell_type": "code",
   "execution_count": null,
   "metadata": {},
   "outputs": [],
   "source": []
  }
 ],
 "metadata": {
  "kernelspec": {
   "display_name": "Python 3",
   "language": "python",
   "name": "python3"
  },
  "language_info": {
   "codemirror_mode": {
    "name": "ipython",
    "version": 3
   },
   "file_extension": ".py",
   "mimetype": "text/x-python",
   "name": "python",
   "nbconvert_exporter": "python",
   "pygments_lexer": "ipython3",
   "version": "3.8.3"
  }
 },
 "nbformat": 4,
 "nbformat_minor": 4
}
