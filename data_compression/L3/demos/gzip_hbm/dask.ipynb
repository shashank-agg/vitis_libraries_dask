{
 "cells": [
  {
   "cell_type": "code",
   "execution_count": 10,
   "metadata": {},
   "outputs": [],
   "source": [
    "from dask.distributed import Client, progress, get_worker\n",
    "import os\n",
    "import binascii\n",
    "client = Client(\"tcp://131.180.106.138:8786\")"
   ]
  },
  {
   "cell_type": "code",
   "execution_count": 11,
   "metadata": {},
   "outputs": [],
   "source": [
    "FILE_TO_BE_COMPRESSED = \"sample.txt\"\n",
    "FINAL_COMPRESSED_FILE = \"compressed.gz\""
   ]
  },
  {
   "cell_type": "code",
   "execution_count": 12,
   "metadata": {},
   "outputs": [],
   "source": [
    "def run_on_worker(file_bytes, index):\n",
    "    import requests\n",
    "    from xfZlibWrapper import xfZlibWrapper\n",
    "    \n",
    "    # Write received data to a file, since xfZlib::compress_file expects a file path\n",
    "    TEMP_FILE_ON_WORKER = f\"_worker/temp-{index}.txt\"\n",
    "    TEMP_COMPRESSED_FILE_ON_WORKER = f\"_worker/temp-{index}.gz\"    \n",
    "    os.makedirs(os.path.dirname(\"_worker/\"), exist_ok=True)    \n",
    "    open(TEMP_FILE_ON_WORKER, 'wb').write(file_bytes)\n",
    "    \n",
    "    xfZlib = xfZlibWrapper(xclbin_path = b\"./build/xclbin_xilinx_u50_gen3x16_xdma_201920_3_sw_emu/compress_decompress.xclbin\", libzso_path = \"build/libz.so\")\n",
    "    size = xfZlib.compress_file(TEMP_FILE_ON_WORKER, TEMP_COMPRESSED_FILE_ON_WORKER)\n",
    "    print(f'Compressed from {os.path.getsize(TEMP_FILE_ON_WORKER)} to {size} bytes')\n",
    "    \n",
    "\n",
    "\n",
    "    # Add CRC32 since the library doesn't add one (https://xilinx.github.io/Vitis_Libraries/data_compression/2020.1/source/L2/gzip.html?highlight=crc)\n",
    "    f = open(TEMP_COMPRESSED_FILE_ON_WORKER, \"rb\")\n",
    "    data = f.read()\n",
    "    crc_bytes = binascii.crc32(file_bytes).to_bytes(4, 'little')\n",
    "    data = data[:-13] + crc_bytes + data[-9:-5]\n",
    "    \n",
    "    return {\n",
    "        'index': index,\n",
    "        'data': data,\n",
    "        'size': size\n",
    "    }"
   ]
  },
  {
   "cell_type": "code",
   "execution_count": 13,
   "metadata": {},
   "outputs": [
    {
     "name": "stdout",
     "output_type": "stream",
     "text": [
      "Splitting input file into 3 chunk(s)\n",
      "Received data from workers\n",
      "Writing combined (compressed) data to compressed.gz\n",
      "TOTAL EXECUTION TIME (in s):  2.4881649017333984\n"
     ]
    }
   ],
   "source": [
    "import time\n",
    "t0 = time.time()\n",
    "\n",
    "num_of_workers = len(client.scheduler_info()[\"workers\"])\n",
    "data_split = []\n",
    "\n",
    "# Split up the file into equal sized chunks based on number of available dask workers\n",
    "print(\"Splitting input file into\", num_of_workers, \"chunk(s)\")\n",
    "with open(FILE_TO_BE_COMPRESSED, \"rb\") as ifile:    \n",
    "    total = ifile.read()\n",
    "    start = 0\n",
    "    chunk_size = int(len(total)/num_of_workers)\n",
    "    for i in range(num_of_workers - 1):\n",
    "        data_split.append(total[start: start+chunk_size])\n",
    "        start += chunk_size\n",
    "    data_split.append(total[start:]) #Last partition\n",
    "\n",
    "# Scatter the data to the workers before calling run_on_worker on the workers\n",
    "distributed_data = client.scatter(data_split)\n",
    "futures = client.map(run_on_worker, distributed_data, range(num_of_workers))\n",
    "results = client.gather(futures)\n",
    "print(\"Received data from workers\")\n",
    "\n",
    "# Reorder the response based on original input order\n",
    "results.sort(key = lambda result: result['index'])  \n",
    "\n",
    "\n",
    "print(\"Writing combined (compressed) data to \" + FINAL_COMPRESSED_FILE)\n",
    "with open(FINAL_COMPRESSED_FILE, \"wb\") as f:\n",
    "    for result in results:        \n",
    "        f.write(result['data'])\n",
    "        fw = open('_part'+  str(result['index']) +'.gz', 'wb')\n",
    "        fw.write(result['data'])\n",
    "        fw.close()\n",
    "\n",
    "\n",
    "t1 = time.time()\n",
    "print(\"TOTAL EXECUTION TIME (in s): \", t1 - t0)"
   ]
  },
  {
   "cell_type": "code",
   "execution_count": 14,
   "metadata": {},
   "outputs": [
    {
     "name": "stdout",
     "output_type": "stream",
     "text": [
      "Extracting compressed.gz using command: \n",
      "gzip -dc compressed.gz > sample.txt.copy\n",
      "Comparing sample.txt.copy to sample.txt\n",
      "Validation succeeded !!\n"
     ]
    }
   ],
   "source": [
    "\n",
    "FILE_COPY = FILE_TO_BE_COMPRESSED + \".copy\"\n",
    "COMMAND_TO_RUN = \"gzip -dc \" + FINAL_COMPRESSED_FILE + \" > \" + FILE_COPY\n",
    "print(\"Extracting\", FINAL_COMPRESSED_FILE, \"using command: \")\n",
    "print(COMMAND_TO_RUN)\n",
    "os.system(COMMAND_TO_RUN)\n",
    "print(\"Comparing\", FILE_COPY, \"to\", FILE_TO_BE_COMPRESSED)\n",
    "with open(FILE_TO_BE_COMPRESSED, 'rb') as f1:\n",
    "    with open(FILE_COPY, 'rb') as f2:\n",
    "        if f1.read() == f2.read():\n",
    "            print(\"Validation succeeded !!\")\n",
    "        else:\n",
    "            print(\"Validation failed !!\")"
   ]
  }
 ],
 "metadata": {
  "kernelspec": {
   "display_name": "Python 3",
   "language": "python",
   "name": "python3"
  },
  "language_info": {
   "codemirror_mode": {
    "name": "ipython",
    "version": 3
   },
   "file_extension": ".py",
   "mimetype": "text/x-python",
   "name": "python",
   "nbconvert_exporter": "python",
   "pygments_lexer": "ipython3",
   "version": "3.8.3"
  }
 },
 "nbformat": 4,
 "nbformat_minor": 4
}
