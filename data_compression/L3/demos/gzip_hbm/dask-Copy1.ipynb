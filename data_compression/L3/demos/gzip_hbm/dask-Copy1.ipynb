{
 "cells": [
  {
   "cell_type": "code",
   "execution_count": 37,
   "metadata": {},
   "outputs": [],
   "source": [
    "from dask.distributed import Client, progress, get_worker\n",
    "client = Client(\"tcp://131.180.106.138:8786\")"
   ]
  },
  {
   "cell_type": "code",
   "execution_count": 38,
   "metadata": {},
   "outputs": [],
   "source": [
    "file_list = [\n",
    "    'http://www.nwhiker.com/wallpaper/wp01.jpg',\n",
    "    'http://www.nwhiker.com/wallpaper/wp02.jpg',\n",
    "#     'http://www.nwhiker.com/wallpaper/wp03.jpg',\n",
    "#     'http://www.nwhiker.com/wallpaper/wp04.jpg',\n",
    "#     'http://www.nwhiker.com/wallpaper/wp05.jpg',\n",
    "#     'http://www.nwhiker.com/wallpaper/wp06.jpg',\n",
    "#     'http://www.nwhiker.com/wallpaper/wp07.jpg',\n",
    "#     'http://www.nwhiker.com/wallpaper/wp08.jpg',\n",
    "#     'http://www.nwhiker.com/wallpaper/wp09.jpg',\n",
    "#     'http://www.nwhiker.com/wallpaper/wp10.jpg'\n",
    "]"
   ]
  },
  {
   "cell_type": "code",
   "execution_count": 39,
   "metadata": {},
   "outputs": [],
   "source": [
    "\n",
    "def run_in_worker(file_name):\n",
    "    import requests\n",
    "    import os\n",
    "    from xfZlibWrapper import xfZlibWrapper\n",
    "\n",
    "    # Download to filesystem\n",
    "    print(f\"Downloading file from URL {file_name}\")\n",
    "    os.makedirs(os.path.dirname(\"data/\"), exist_ok=True)    \n",
    "    file_path = 'data/' + file_name.split(\"/\")[-1]\n",
    "    r = requests.get(file_name)\n",
    "    open(file_path, 'wb').write(r.content)\n",
    "    \n",
    "    \n",
    "    # Call FPGA driver\n",
    "    print(\"calling constructor\")\n",
    "    xfZlib = xfZlibWrapper(b\"/shares/bulk/shashankaggarw/compress_decompress.xclbin\")\n",
    "    \n",
    "    size = xfZlib.compress_file(file_path, file_path + \".gz\")\n",
    "    print(f'Compressed from {os.path.getsize(file_path)} to {size} bytes')\n",
    "    return size\n"
   ]
  },
  {
   "cell_type": "code",
   "execution_count": 40,
   "metadata": {},
   "outputs": [
    {
     "name": "stdout",
     "output_type": "stream",
     "text": [
      "Dispatched work to worker(s)\n",
      "Received results:\n",
      "[306724, 334821]\n",
      "Time taken:\n",
      "0:00:10.221838\n"
     ]
    },
    {
     "name": "stderr",
     "output_type": "stream",
     "text": [
      "distributed.client - ERROR - Failed to reconnect to scheduler after 10.00 seconds, closing client\n",
      "distributed.client - ERROR - Failed to reconnect to scheduler after 10.00 seconds, closing client\n",
      "distributed.client - ERROR - Failed to reconnect to scheduler after 10.00 seconds, closing client\n",
      "distributed.client - ERROR - Failed to reconnect to scheduler after 10.00 seconds, closing client\n",
      "distributed.client - ERROR - Failed to reconnect to scheduler after 10.00 seconds, closing client\n",
      "distributed.client - ERROR - Failed to reconnect to scheduler after 10.00 seconds, closing client\n",
      "distributed.client - ERROR - Failed to reconnect to scheduler after 10.00 seconds, closing client\n",
      "distributed.client - ERROR - Failed to reconnect to scheduler after 10.00 seconds, closing client\n",
      "distributed.client - ERROR - Failed to reconnect to scheduler after 10.00 seconds, closing client\n",
      "_GatheringFuture exception was never retrieved\n",
      "future: <_GatheringFuture finished exception=CancelledError()>\n",
      "asyncio.exceptions.CancelledError\n",
      "_GatheringFuture exception was never retrieved\n",
      "future: <_GatheringFuture finished exception=CancelledError()>\n",
      "asyncio.exceptions.CancelledError\n",
      "_GatheringFuture exception was never retrieved\n",
      "future: <_GatheringFuture finished exception=CancelledError()>\n",
      "asyncio.exceptions.CancelledError\n",
      "_GatheringFuture exception was never retrieved\n",
      "future: <_GatheringFuture finished exception=CancelledError()>\n",
      "asyncio.exceptions.CancelledError\n",
      "_GatheringFuture exception was never retrieved\n",
      "future: <_GatheringFuture finished exception=CancelledError()>\n",
      "asyncio.exceptions.CancelledError\n",
      "_GatheringFuture exception was never retrieved\n",
      "future: <_GatheringFuture finished exception=CancelledError()>\n",
      "asyncio.exceptions.CancelledError\n",
      "_GatheringFuture exception was never retrieved\n",
      "future: <_GatheringFuture finished exception=CancelledError()>\n",
      "asyncio.exceptions.CancelledError\n",
      "_GatheringFuture exception was never retrieved\n",
      "future: <_GatheringFuture finished exception=CancelledError()>\n",
      "asyncio.exceptions.CancelledError\n",
      "_GatheringFuture exception was never retrieved\n",
      "future: <_GatheringFuture finished exception=CancelledError()>\n",
      "asyncio.exceptions.CancelledError\n"
     ]
    }
   ],
   "source": [
    "# distributed_data = client.scatter(file_list)\n",
    "# print(len(distributed_data))\n",
    "from datetime import datetime\n",
    "\n",
    "t0 = datetime.now()\n",
    "futures = client.map(run_in_worker,  file_list)\n",
    "print(\"Dispatched work to worker(s)\")\n",
    "\n",
    "results = client.gather(futures)\n",
    "t1 = datetime.now()\n",
    "print(\"Received results:\")\n",
    "print(results)\n",
    "print(\"Time taken:\")\n",
    "print(t1-t0)"
   ]
  },
  {
   "cell_type": "code",
   "execution_count": null,
   "metadata": {},
   "outputs": [],
   "source": []
  }
 ],
 "metadata": {
  "kernelspec": {
   "display_name": "Python 3",
   "language": "python",
   "name": "python3"
  },
  "language_info": {
   "codemirror_mode": {
    "name": "ipython",
    "version": 3
   },
   "file_extension": ".py",
   "mimetype": "text/x-python",
   "name": "python",
   "nbconvert_exporter": "python",
   "pygments_lexer": "ipython3",
   "version": "3.8.3"
  }
 },
 "nbformat": 4,
 "nbformat_minor": 4
}
